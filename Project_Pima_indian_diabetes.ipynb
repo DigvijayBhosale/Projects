{
 "cells": [
  {
   "cell_type": "markdown",
   "metadata": {},
   "source": [
    "# Pima indian diabetes\n",
    "\n",
    "\n",
    "------------------------------\n",
    "\n",
    "Import the necessary Packages\n",
    "\n",
    "--------------------\n"
   ]
  },
  {
   "cell_type": "code",
   "execution_count": 1,
   "metadata": {},
   "outputs": [],
   "source": [
    "import numpy as np\n",
    "import pandas as pd\n",
    "import matplotlib.pyplot as plt\n",
    "import seaborn as sns \n",
    "\n"
   ]
  },
  {
   "cell_type": "code",
   "execution_count": 2,
   "metadata": {},
   "outputs": [],
   "source": [
    "datafrm=pd.read_csv('pima-indians-diabetes.CSV')"
   ]
  },
  {
   "cell_type": "markdown",
   "metadata": {},
   "source": [
    "-----------------------------\n",
    "\n",
    "Header is not there in CSV files so assigning the columns names sequentially to dataframe\n",
    "\n",
    "-----------------"
   ]
  },
  {
   "cell_type": "code",
   "execution_count": 3,
   "metadata": {},
   "outputs": [],
   "source": [
    "datafrm.columns=['pregnency','plasma','bloodpressure','skin','Insulin','BMI','pedigree','age','class']"
   ]
  },
  {
   "cell_type": "code",
   "execution_count": 4,
   "metadata": {},
   "outputs": [
    {
     "data": {
      "text/html": [
       "<div>\n",
       "<style scoped>\n",
       "    .dataframe tbody tr th:only-of-type {\n",
       "        vertical-align: middle;\n",
       "    }\n",
       "\n",
       "    .dataframe tbody tr th {\n",
       "        vertical-align: top;\n",
       "    }\n",
       "\n",
       "    .dataframe thead th {\n",
       "        text-align: right;\n",
       "    }\n",
       "</style>\n",
       "<table border=\"1\" class=\"dataframe\">\n",
       "  <thead>\n",
       "    <tr style=\"text-align: right;\">\n",
       "      <th></th>\n",
       "      <th>pregnency</th>\n",
       "      <th>plasma</th>\n",
       "      <th>bloodpressure</th>\n",
       "      <th>skin</th>\n",
       "      <th>Insulin</th>\n",
       "      <th>BMI</th>\n",
       "      <th>pedigree</th>\n",
       "      <th>age</th>\n",
       "      <th>class</th>\n",
       "    </tr>\n",
       "  </thead>\n",
       "  <tbody>\n",
       "    <tr>\n",
       "      <th>0</th>\n",
       "      <td>1</td>\n",
       "      <td>85</td>\n",
       "      <td>66</td>\n",
       "      <td>29</td>\n",
       "      <td>0</td>\n",
       "      <td>26.6</td>\n",
       "      <td>0.351</td>\n",
       "      <td>31</td>\n",
       "      <td>0</td>\n",
       "    </tr>\n",
       "    <tr>\n",
       "      <th>1</th>\n",
       "      <td>8</td>\n",
       "      <td>183</td>\n",
       "      <td>64</td>\n",
       "      <td>0</td>\n",
       "      <td>0</td>\n",
       "      <td>23.3</td>\n",
       "      <td>0.672</td>\n",
       "      <td>32</td>\n",
       "      <td>1</td>\n",
       "    </tr>\n",
       "    <tr>\n",
       "      <th>2</th>\n",
       "      <td>1</td>\n",
       "      <td>89</td>\n",
       "      <td>66</td>\n",
       "      <td>23</td>\n",
       "      <td>94</td>\n",
       "      <td>28.1</td>\n",
       "      <td>0.167</td>\n",
       "      <td>21</td>\n",
       "      <td>0</td>\n",
       "    </tr>\n",
       "    <tr>\n",
       "      <th>3</th>\n",
       "      <td>0</td>\n",
       "      <td>137</td>\n",
       "      <td>40</td>\n",
       "      <td>35</td>\n",
       "      <td>168</td>\n",
       "      <td>43.1</td>\n",
       "      <td>2.288</td>\n",
       "      <td>33</td>\n",
       "      <td>1</td>\n",
       "    </tr>\n",
       "    <tr>\n",
       "      <th>4</th>\n",
       "      <td>5</td>\n",
       "      <td>116</td>\n",
       "      <td>74</td>\n",
       "      <td>0</td>\n",
       "      <td>0</td>\n",
       "      <td>25.6</td>\n",
       "      <td>0.201</td>\n",
       "      <td>30</td>\n",
       "      <td>0</td>\n",
       "    </tr>\n",
       "  </tbody>\n",
       "</table>\n",
       "</div>"
      ],
      "text/plain": [
       "   pregnency  plasma  bloodpressure  skin  Insulin   BMI  pedigree  age  class\n",
       "0          1      85             66    29        0  26.6     0.351   31      0\n",
       "1          8     183             64     0        0  23.3     0.672   32      1\n",
       "2          1      89             66    23       94  28.1     0.167   21      0\n",
       "3          0     137             40    35      168  43.1     2.288   33      1\n",
       "4          5     116             74     0        0  25.6     0.201   30      0"
      ]
     },
     "execution_count": 4,
     "metadata": {},
     "output_type": "execute_result"
    }
   ],
   "source": [
    "#Class :-  \n",
    "# 1 : Positive Diabetes Case   0: Negative Diabetes Case\n",
    "datafrm.head()"
   ]
  },
  {
   "cell_type": "markdown",
   "metadata": {},
   "source": [
    "-----------------------\n",
    "\n",
    "Checking NUll Values \n",
    "\n",
    "--------------------"
   ]
  },
  {
   "cell_type": "code",
   "execution_count": 5,
   "metadata": {},
   "outputs": [
    {
     "data": {
      "text/plain": [
       "pregnency        0\n",
       "plasma           0\n",
       "bloodpressure    0\n",
       "skin             0\n",
       "Insulin          0\n",
       "BMI              0\n",
       "pedigree         0\n",
       "age              0\n",
       "class            0\n",
       "dtype: int64"
      ]
     },
     "execution_count": 5,
     "metadata": {},
     "output_type": "execute_result"
    }
   ],
   "source": [
    "datafrm.isnull().sum()"
   ]
  },
  {
   "cell_type": "markdown",
   "metadata": {},
   "source": [
    "------------------------------\n",
    "\n",
    "To check outliers using bixplot.\n",
    "\n",
    "Remove the outliers using zScore methode using threshold value 3\n",
    "\n",
    "Also checking the corelations with our output column which is class\n",
    "\n",
    "-----------------------------------------"
   ]
  },
  {
   "cell_type": "code",
   "execution_count": 6,
   "metadata": {},
   "outputs": [
    {
     "data": {
      "text/html": [
       "<div>\n",
       "<style scoped>\n",
       "    .dataframe tbody tr th:only-of-type {\n",
       "        vertical-align: middle;\n",
       "    }\n",
       "\n",
       "    .dataframe tbody tr th {\n",
       "        vertical-align: top;\n",
       "    }\n",
       "\n",
       "    .dataframe thead th {\n",
       "        text-align: right;\n",
       "    }\n",
       "</style>\n",
       "<table border=\"1\" class=\"dataframe\">\n",
       "  <thead>\n",
       "    <tr style=\"text-align: right;\">\n",
       "      <th></th>\n",
       "      <th>pregnency</th>\n",
       "      <th>plasma</th>\n",
       "      <th>bloodpressure</th>\n",
       "      <th>skin</th>\n",
       "      <th>Insulin</th>\n",
       "      <th>BMI</th>\n",
       "      <th>pedigree</th>\n",
       "      <th>age</th>\n",
       "      <th>class</th>\n",
       "    </tr>\n",
       "  </thead>\n",
       "  <tbody>\n",
       "    <tr>\n",
       "      <th>count</th>\n",
       "      <td>767.000000</td>\n",
       "      <td>767.000000</td>\n",
       "      <td>767.000000</td>\n",
       "      <td>767.000000</td>\n",
       "      <td>767.000000</td>\n",
       "      <td>767.000000</td>\n",
       "      <td>767.000000</td>\n",
       "      <td>767.000000</td>\n",
       "      <td>767.000000</td>\n",
       "    </tr>\n",
       "    <tr>\n",
       "      <th>mean</th>\n",
       "      <td>3.842243</td>\n",
       "      <td>120.859192</td>\n",
       "      <td>69.101695</td>\n",
       "      <td>20.517601</td>\n",
       "      <td>79.903520</td>\n",
       "      <td>31.990482</td>\n",
       "      <td>0.471674</td>\n",
       "      <td>33.219035</td>\n",
       "      <td>0.348110</td>\n",
       "    </tr>\n",
       "    <tr>\n",
       "      <th>std</th>\n",
       "      <td>3.370877</td>\n",
       "      <td>31.978468</td>\n",
       "      <td>19.368155</td>\n",
       "      <td>15.954059</td>\n",
       "      <td>115.283105</td>\n",
       "      <td>7.889091</td>\n",
       "      <td>0.331497</td>\n",
       "      <td>11.752296</td>\n",
       "      <td>0.476682</td>\n",
       "    </tr>\n",
       "    <tr>\n",
       "      <th>min</th>\n",
       "      <td>0.000000</td>\n",
       "      <td>0.000000</td>\n",
       "      <td>0.000000</td>\n",
       "      <td>0.000000</td>\n",
       "      <td>0.000000</td>\n",
       "      <td>0.000000</td>\n",
       "      <td>0.078000</td>\n",
       "      <td>21.000000</td>\n",
       "      <td>0.000000</td>\n",
       "    </tr>\n",
       "    <tr>\n",
       "      <th>25%</th>\n",
       "      <td>1.000000</td>\n",
       "      <td>99.000000</td>\n",
       "      <td>62.000000</td>\n",
       "      <td>0.000000</td>\n",
       "      <td>0.000000</td>\n",
       "      <td>27.300000</td>\n",
       "      <td>0.243500</td>\n",
       "      <td>24.000000</td>\n",
       "      <td>0.000000</td>\n",
       "    </tr>\n",
       "    <tr>\n",
       "      <th>50%</th>\n",
       "      <td>3.000000</td>\n",
       "      <td>117.000000</td>\n",
       "      <td>72.000000</td>\n",
       "      <td>23.000000</td>\n",
       "      <td>32.000000</td>\n",
       "      <td>32.000000</td>\n",
       "      <td>0.371000</td>\n",
       "      <td>29.000000</td>\n",
       "      <td>0.000000</td>\n",
       "    </tr>\n",
       "    <tr>\n",
       "      <th>75%</th>\n",
       "      <td>6.000000</td>\n",
       "      <td>140.000000</td>\n",
       "      <td>80.000000</td>\n",
       "      <td>32.000000</td>\n",
       "      <td>127.500000</td>\n",
       "      <td>36.600000</td>\n",
       "      <td>0.625000</td>\n",
       "      <td>41.000000</td>\n",
       "      <td>1.000000</td>\n",
       "    </tr>\n",
       "    <tr>\n",
       "      <th>max</th>\n",
       "      <td>17.000000</td>\n",
       "      <td>199.000000</td>\n",
       "      <td>122.000000</td>\n",
       "      <td>99.000000</td>\n",
       "      <td>846.000000</td>\n",
       "      <td>67.100000</td>\n",
       "      <td>2.420000</td>\n",
       "      <td>81.000000</td>\n",
       "      <td>1.000000</td>\n",
       "    </tr>\n",
       "  </tbody>\n",
       "</table>\n",
       "</div>"
      ],
      "text/plain": [
       "        pregnency      plasma  bloodpressure        skin     Insulin  \\\n",
       "count  767.000000  767.000000     767.000000  767.000000  767.000000   \n",
       "mean     3.842243  120.859192      69.101695   20.517601   79.903520   \n",
       "std      3.370877   31.978468      19.368155   15.954059  115.283105   \n",
       "min      0.000000    0.000000       0.000000    0.000000    0.000000   \n",
       "25%      1.000000   99.000000      62.000000    0.000000    0.000000   \n",
       "50%      3.000000  117.000000      72.000000   23.000000   32.000000   \n",
       "75%      6.000000  140.000000      80.000000   32.000000  127.500000   \n",
       "max     17.000000  199.000000     122.000000   99.000000  846.000000   \n",
       "\n",
       "              BMI    pedigree         age       class  \n",
       "count  767.000000  767.000000  767.000000  767.000000  \n",
       "mean    31.990482    0.471674   33.219035    0.348110  \n",
       "std      7.889091    0.331497   11.752296    0.476682  \n",
       "min      0.000000    0.078000   21.000000    0.000000  \n",
       "25%     27.300000    0.243500   24.000000    0.000000  \n",
       "50%     32.000000    0.371000   29.000000    0.000000  \n",
       "75%     36.600000    0.625000   41.000000    1.000000  \n",
       "max     67.100000    2.420000   81.000000    1.000000  "
      ]
     },
     "execution_count": 6,
     "metadata": {},
     "output_type": "execute_result"
    }
   ],
   "source": [
    "datafrm.describe()"
   ]
  },
  {
   "cell_type": "code",
   "execution_count": 7,
   "metadata": {},
   "outputs": [
    {
     "data": {
      "text/plain": [
       "pregnency           AxesSubplot(0.125,0.536818;0.133621x0.343182)\n",
       "plasma           AxesSubplot(0.285345,0.536818;0.133621x0.343182)\n",
       "bloodpressure     AxesSubplot(0.44569,0.536818;0.133621x0.343182)\n",
       "skin             AxesSubplot(0.606034,0.536818;0.133621x0.343182)\n",
       "Insulin          AxesSubplot(0.766379,0.536818;0.133621x0.343182)\n",
       "BMI                    AxesSubplot(0.125,0.125;0.133621x0.343182)\n",
       "pedigree            AxesSubplot(0.285345,0.125;0.133621x0.343182)\n",
       "age                  AxesSubplot(0.44569,0.125;0.133621x0.343182)\n",
       "class               AxesSubplot(0.606034,0.125;0.133621x0.343182)\n",
       "dtype: object"
      ]
     },
     "execution_count": 7,
     "metadata": {},
     "output_type": "execute_result"
    },
    {
     "data": {
      "image/png": "[encoded data removed]",
      "text/plain": [
       "<Figure size 1080x720 with 10 Axes>"
      ]
     },
     "metadata": {
      "needs_background": "light"
     },
     "output_type": "display_data"
    }
   ],
   "source": [
    "datafrm.plot(kind='box',subplots=True,layout=(2,5),figsize=(15,10))"
   ]
  },
  {
   "cell_type": "code",
   "execution_count": 8,
   "metadata": {},
   "outputs": [
    {
     "data": {
      "image/png": "[encoded data removed]",
      "text/plain": [
       "<Figure size 576x504 with 2 Axes>"
      ]
     },
     "metadata": {
      "needs_background": "light"
     },
     "output_type": "display_data"
    }
   ],
   "source": [
    "corr=datafrm.corr()\n",
    "plt.figure(figsize=(8,7))\n",
    "sns.heatmap(corr,annot=True)\n",
    "plt.show()\n"
   ]
  },
  {
   "cell_type": "code",
   "execution_count": 9,
   "metadata": {},
   "outputs": [
    {
     "name": "stdout",
     "output_type": "stream",
     "text": [
      "(array([  3,   6,   7,   8,  12,  14,  44,  48,  48,  57,  59,  59,  74,\n",
      "        77,  80,  80,  87, 110, 122, 144, 152, 158, 171, 176, 181, 185,\n",
      "       192, 219, 221, 227, 227, 246, 260, 265, 268, 285, 297, 299, 329,\n",
      "       331, 335, 341, 346, 348, 356, 369, 369, 370, 370, 394, 408, 414,\n",
      "       425, 425, 429, 434, 444, 444, 452, 452, 454, 458, 467, 483, 485,\n",
      "       493, 493, 501, 521, 521, 532, 534, 578, 583, 588, 592, 600, 603,\n",
      "       618, 620, 642, 644, 654, 665, 672, 683, 683, 694, 696, 702, 705,\n",
      "       705, 752], dtype=int64), array([6, 2, 4, 5, 4, 2, 6, 2, 5, 6, 2, 5, 1, 2, 2, 5, 0, 4, 7, 5, 4, 0,\n",
      "       2, 5, 1, 4, 2, 4, 2, 4, 6, 4, 2, 2, 2, 4, 0, 2, 6, 2, 2, 1, 2, 1,\n",
      "       2, 4, 6, 5, 6, 6, 4, 4, 2, 5, 2, 2, 5, 6, 2, 7, 0, 7, 2, 2, 4, 2,\n",
      "       5, 1, 2, 5, 2, 2, 3, 4, 2, 6, 2, 2, 2, 6, 2, 4, 4, 7, 5, 5, 7, 4,\n",
      "       2, 2, 2, 5, 4], dtype=int64))\n"
     ]
    }
   ],
   "source": [
    "from scipy.stats import zscore\n",
    "\n",
    "z=np.abs(zscore(datafrm))\n",
    "threashold=3\n",
    "print(np.where (z>3))\n",
    "\n"
   ]
  },
  {
   "cell_type": "code",
   "execution_count": 10,
   "metadata": {},
   "outputs": [
    {
     "data": {
      "text/plain": [
       "(767, 9)"
      ]
     },
     "execution_count": 10,
     "metadata": {},
     "output_type": "execute_result"
    }
   ],
   "source": [
    "datafrm.shape"
   ]
  },
  {
   "cell_type": "code",
   "execution_count": 11,
   "metadata": {},
   "outputs": [],
   "source": [
    "datafrm=datafrm[(z<3).all(axis=1)]"
   ]
  },
  {
   "cell_type": "code",
   "execution_count": 12,
   "metadata": {},
   "outputs": [
    {
     "data": {
      "text/plain": [
       "(687, 9)"
      ]
     },
     "execution_count": 12,
     "metadata": {},
     "output_type": "execute_result"
    }
   ],
   "source": [
    "datafrm.shape"
   ]
  },
  {
   "cell_type": "markdown",
   "metadata": {},
   "source": [
    "-----------------------------------\n",
    "\n",
    "Create x (input)  and y (output) to pass these values to our algo.\n",
    "\n",
    "---------------"
   ]
  },
  {
   "cell_type": "code",
   "execution_count": 13,
   "metadata": {},
   "outputs": [],
   "source": [
    "dfx=datafrm.iloc[:,:-1]\n",
    "y=datafrm.iloc[:,-1]"
   ]
  },
  {
   "cell_type": "code",
   "execution_count": 14,
   "metadata": {},
   "outputs": [
    {
     "data": {
      "text/plain": [
       "0      0\n",
       "1      1\n",
       "2      0\n",
       "4      0\n",
       "5      1\n",
       "      ..\n",
       "762    0\n",
       "763    0\n",
       "764    0\n",
       "765    1\n",
       "766    0\n",
       "Name: class, Length: 687, dtype: int64"
      ]
     },
     "execution_count": 14,
     "metadata": {},
     "output_type": "execute_result"
    }
   ],
   "source": [
    "y"
   ]
  },
  {
   "cell_type": "markdown",
   "metadata": {},
   "source": [
    " -------------------------------\n",
    " StandardScale for scaling x dataframe i.e Normalizing the dataset\n",
    " \n",
    " --------------"
   ]
  },
  {
   "cell_type": "code",
   "execution_count": 15,
   "metadata": {},
   "outputs": [
    {
     "data": {
      "text/html": [
       "<div>\n",
       "<style scoped>\n",
       "    .dataframe tbody tr th:only-of-type {\n",
       "        vertical-align: middle;\n",
       "    }\n",
       "\n",
       "    .dataframe tbody tr th {\n",
       "        vertical-align: top;\n",
       "    }\n",
       "\n",
       "    .dataframe thead th {\n",
       "        text-align: right;\n",
       "    }\n",
       "</style>\n",
       "<table border=\"1\" class=\"dataframe\">\n",
       "  <thead>\n",
       "    <tr style=\"text-align: right;\">\n",
       "      <th></th>\n",
       "      <th>pregnency</th>\n",
       "      <th>plasma</th>\n",
       "      <th>bloodpressure</th>\n",
       "      <th>skin</th>\n",
       "      <th>Insulin</th>\n",
       "      <th>BMI</th>\n",
       "      <th>pedigree</th>\n",
       "      <th>age</th>\n",
       "    </tr>\n",
       "  </thead>\n",
       "  <tbody>\n",
       "    <tr>\n",
       "      <th>0</th>\n",
       "      <td>-0.867175</td>\n",
       "      <td>-1.175613</td>\n",
       "      <td>-0.515432</td>\n",
       "      <td>0.534748</td>\n",
       "      <td>-0.806232</td>\n",
       "      <td>-0.847168</td>\n",
       "      <td>-0.363171</td>\n",
       "      <td>-0.181269</td>\n",
       "    </tr>\n",
       "    <tr>\n",
       "      <th>1</th>\n",
       "      <td>1.268127</td>\n",
       "      <td>2.092455</td>\n",
       "      <td>-0.677864</td>\n",
       "      <td>-1.348878</td>\n",
       "      <td>-0.806232</td>\n",
       "      <td>-1.345757</td>\n",
       "      <td>0.765319</td>\n",
       "      <td>-0.093694</td>\n",
       "    </tr>\n",
       "    <tr>\n",
       "      <th>2</th>\n",
       "      <td>-0.867175</td>\n",
       "      <td>-1.042223</td>\n",
       "      <td>-0.515432</td>\n",
       "      <td>0.145033</td>\n",
       "      <td>0.237466</td>\n",
       "      <td>-0.620537</td>\n",
       "      <td>-1.010031</td>\n",
       "      <td>-1.057021</td>\n",
       "    </tr>\n",
       "    <tr>\n",
       "      <th>3</th>\n",
       "      <td>0.352998</td>\n",
       "      <td>-0.141837</td>\n",
       "      <td>0.134296</td>\n",
       "      <td>-1.348878</td>\n",
       "      <td>-0.806232</td>\n",
       "      <td>-0.998256</td>\n",
       "      <td>-0.890503</td>\n",
       "      <td>-0.268844</td>\n",
       "    </tr>\n",
       "    <tr>\n",
       "      <th>4</th>\n",
       "      <td>-0.257089</td>\n",
       "      <td>-1.409047</td>\n",
       "      <td>-1.814887</td>\n",
       "      <td>0.729606</td>\n",
       "      <td>0.170847</td>\n",
       "      <td>-0.182383</td>\n",
       "      <td>-0.725272</td>\n",
       "      <td>-0.619145</td>\n",
       "    </tr>\n",
       "    <tr>\n",
       "      <th>...</th>\n",
       "      <td>...</td>\n",
       "      <td>...</td>\n",
       "      <td>...</td>\n",
       "      <td>...</td>\n",
       "      <td>...</td>\n",
       "      <td>...</td>\n",
       "      <td>...</td>\n",
       "      <td>...</td>\n",
       "    </tr>\n",
       "    <tr>\n",
       "      <th>682</th>\n",
       "      <td>1.878213</td>\n",
       "      <td>-0.642051</td>\n",
       "      <td>0.296728</td>\n",
       "      <td>1.768849</td>\n",
       "      <td>1.192338</td>\n",
       "      <td>0.104684</td>\n",
       "      <td>-0.995969</td>\n",
       "      <td>2.621136</td>\n",
       "    </tr>\n",
       "    <tr>\n",
       "      <th>683</th>\n",
       "      <td>-0.562132</td>\n",
       "      <td>0.058249</td>\n",
       "      <td>-0.190568</td>\n",
       "      <td>0.404843</td>\n",
       "      <td>-0.806232</td>\n",
       "      <td>0.693925</td>\n",
       "      <td>-0.401842</td>\n",
       "      <td>-0.531570</td>\n",
       "    </tr>\n",
       "    <tr>\n",
       "      <th>684</th>\n",
       "      <td>0.352998</td>\n",
       "      <td>0.024902</td>\n",
       "      <td>-0.028136</td>\n",
       "      <td>0.145033</td>\n",
       "      <td>0.437323</td>\n",
       "      <td>-0.907603</td>\n",
       "      <td>-0.735819</td>\n",
       "      <td>-0.268844</td>\n",
       "    </tr>\n",
       "    <tr>\n",
       "      <th>685</th>\n",
       "      <td>-0.867175</td>\n",
       "      <td>0.191640</td>\n",
       "      <td>-1.002727</td>\n",
       "      <td>-1.348878</td>\n",
       "      <td>-0.806232</td>\n",
       "      <td>-0.318362</td>\n",
       "      <td>-0.370202</td>\n",
       "      <td>1.219934</td>\n",
       "    </tr>\n",
       "    <tr>\n",
       "      <th>686</th>\n",
       "      <td>-0.867175</td>\n",
       "      <td>-0.908832</td>\n",
       "      <td>-0.190568</td>\n",
       "      <td>0.664654</td>\n",
       "      <td>-0.806232</td>\n",
       "      <td>-0.273035</td>\n",
       "      <td>-0.489730</td>\n",
       "      <td>-0.881870</td>\n",
       "    </tr>\n",
       "  </tbody>\n",
       "</table>\n",
       "<p>687 rows × 8 columns</p>\n",
       "</div>"
      ],
      "text/plain": [
       "     pregnency    plasma  bloodpressure      skin   Insulin       BMI  \\\n",
       "0    -0.867175 -1.175613      -0.515432  0.534748 -0.806232 -0.847168   \n",
       "1     1.268127  2.092455      -0.677864 -1.348878 -0.806232 -1.345757   \n",
       "2    -0.867175 -1.042223      -0.515432  0.145033  0.237466 -0.620537   \n",
       "3     0.352998 -0.141837       0.134296 -1.348878 -0.806232 -0.998256   \n",
       "4    -0.257089 -1.409047      -1.814887  0.729606  0.170847 -0.182383   \n",
       "..         ...       ...            ...       ...       ...       ...   \n",
       "682   1.878213 -0.642051       0.296728  1.768849  1.192338  0.104684   \n",
       "683  -0.562132  0.058249      -0.190568  0.404843 -0.806232  0.693925   \n",
       "684   0.352998  0.024902      -0.028136  0.145033  0.437323 -0.907603   \n",
       "685  -0.867175  0.191640      -1.002727 -1.348878 -0.806232 -0.318362   \n",
       "686  -0.867175 -0.908832      -0.190568  0.664654 -0.806232 -0.273035   \n",
       "\n",
       "     pedigree       age  \n",
       "0   -0.363171 -0.181269  \n",
       "1    0.765319 -0.093694  \n",
       "2   -1.010031 -1.057021  \n",
       "3   -0.890503 -0.268844  \n",
       "4   -0.725272 -0.619145  \n",
       "..        ...       ...  \n",
       "682 -0.995969  2.621136  \n",
       "683 -0.401842 -0.531570  \n",
       "684 -0.735819 -0.268844  \n",
       "685 -0.370202  1.219934  \n",
       "686 -0.489730 -0.881870  \n",
       "\n",
       "[687 rows x 8 columns]"
      ]
     },
     "execution_count": 15,
     "metadata": {},
     "output_type": "execute_result"
    }
   ],
   "source": [
    "from sklearn.preprocessing import StandardScaler\n",
    "sc=StandardScaler()\n",
    "x=sc.fit_transform(dfx)\n",
    "x=pd.DataFrame(x,columns=dfx.columns)\n",
    "x"
   ]
  },
  {
   "cell_type": "code",
   "execution_count": 16,
   "metadata": {
    "scrolled": true
   },
   "outputs": [
    {
     "data": {
      "text/plain": [
       "pregnency           AxesSubplot(0.125,0.536818;0.133621x0.343182)\n",
       "plasma           AxesSubplot(0.285345,0.536818;0.133621x0.343182)\n",
       "bloodpressure     AxesSubplot(0.44569,0.536818;0.133621x0.343182)\n",
       "skin             AxesSubplot(0.606034,0.536818;0.133621x0.343182)\n",
       "Insulin          AxesSubplot(0.766379,0.536818;0.133621x0.343182)\n",
       "BMI                    AxesSubplot(0.125,0.125;0.133621x0.343182)\n",
       "pedigree            AxesSubplot(0.285345,0.125;0.133621x0.343182)\n",
       "age                  AxesSubplot(0.44569,0.125;0.133621x0.343182)\n",
       "dtype: object"
      ]
     },
     "execution_count": 16,
     "metadata": {},
     "output_type": "execute_result"
    },
    {
     "data": {
      "image/png": "[encoded data removed]",
      "text/plain": [
       "<Figure size 1080x720 with 10 Axes>"
      ]
     },
     "metadata": {
      "needs_background": "light"
     },
     "output_type": "display_data"
    }
   ],
   "source": [
    "x.plot(kind='box',subplots=True,layout=(2,5),figsize=(15,10))"
   ]
  },
  {
   "cell_type": "code",
   "execution_count": 17,
   "metadata": {},
   "outputs": [
    {
     "data": {
      "text/html": [
       "<div>\n",
       "<style scoped>\n",
       "    .dataframe tbody tr th:only-of-type {\n",
       "        vertical-align: middle;\n",
       "    }\n",
       "\n",
       "    .dataframe tbody tr th {\n",
       "        vertical-align: top;\n",
       "    }\n",
       "\n",
       "    .dataframe thead th {\n",
       "        text-align: right;\n",
       "    }\n",
       "</style>\n",
       "<table border=\"1\" class=\"dataframe\">\n",
       "  <thead>\n",
       "    <tr style=\"text-align: right;\">\n",
       "      <th></th>\n",
       "      <th>pregnency</th>\n",
       "      <th>plasma</th>\n",
       "      <th>bloodpressure</th>\n",
       "      <th>skin</th>\n",
       "      <th>Insulin</th>\n",
       "      <th>BMI</th>\n",
       "      <th>pedigree</th>\n",
       "      <th>age</th>\n",
       "    </tr>\n",
       "  </thead>\n",
       "  <tbody>\n",
       "    <tr>\n",
       "      <th>count</th>\n",
       "      <td>6.870000e+02</td>\n",
       "      <td>6.870000e+02</td>\n",
       "      <td>6.870000e+02</td>\n",
       "      <td>6.870000e+02</td>\n",
       "      <td>6.870000e+02</td>\n",
       "      <td>6.870000e+02</td>\n",
       "      <td>6.870000e+02</td>\n",
       "      <td>6.870000e+02</td>\n",
       "    </tr>\n",
       "    <tr>\n",
       "      <th>mean</th>\n",
       "      <td>2.133180e-17</td>\n",
       "      <td>7.142920e-17</td>\n",
       "      <td>-2.593752e-17</td>\n",
       "      <td>-2.424068e-17</td>\n",
       "      <td>-6.237934e-17</td>\n",
       "      <td>-7.728736e-16</td>\n",
       "      <td>1.503730e-16</td>\n",
       "      <td>1.662910e-16</td>\n",
       "    </tr>\n",
       "    <tr>\n",
       "      <th>std</th>\n",
       "      <td>1.000729e+00</td>\n",
       "      <td>1.000729e+00</td>\n",
       "      <td>1.000729e+00</td>\n",
       "      <td>1.000729e+00</td>\n",
       "      <td>1.000729e+00</td>\n",
       "      <td>1.000729e+00</td>\n",
       "      <td>1.000729e+00</td>\n",
       "      <td>1.000729e+00</td>\n",
       "    </tr>\n",
       "    <tr>\n",
       "      <th>min</th>\n",
       "      <td>-1.172218e+00</td>\n",
       "      <td>-2.542866e+00</td>\n",
       "      <td>-3.926502e+00</td>\n",
       "      <td>-1.348878e+00</td>\n",
       "      <td>-8.062321e-01</td>\n",
       "      <td>-2.116304e+00</td>\n",
       "      <td>-1.322915e+00</td>\n",
       "      <td>-1.057021e+00</td>\n",
       "    </tr>\n",
       "    <tr>\n",
       "      <th>25%</th>\n",
       "      <td>-8.671751e-01</td>\n",
       "      <td>-7.087464e-01</td>\n",
       "      <td>-6.778636e-01</td>\n",
       "      <td>-1.348878e+00</td>\n",
       "      <td>-8.062321e-01</td>\n",
       "      <td>-7.262980e-01</td>\n",
       "      <td>-7.358185e-01</td>\n",
       "      <td>-7.942953e-01</td>\n",
       "    </tr>\n",
       "    <tr>\n",
       "      <th>50%</th>\n",
       "      <td>-2.570888e-01</td>\n",
       "      <td>-1.751843e-01</td>\n",
       "      <td>-2.813595e-02</td>\n",
       "      <td>1.450325e-01</td>\n",
       "      <td>-3.176928e-01</td>\n",
       "      <td>-3.129514e-02</td>\n",
       "      <td>-2.963753e-01</td>\n",
       "      <td>-3.564195e-01</td>\n",
       "    </tr>\n",
       "    <tr>\n",
       "      <th>75%</th>\n",
       "      <td>6.580407e-01</td>\n",
       "      <td>6.251589e-01</td>\n",
       "      <td>6.215917e-01</td>\n",
       "      <td>7.296063e-01</td>\n",
       "      <td>5.927668e-01</td>\n",
       "      <td>6.183815e-01</td>\n",
       "      <td>5.297779e-01</td>\n",
       "      <td>6.069074e-01</td>\n",
       "    </tr>\n",
       "    <tr>\n",
       "      <th>max</th>\n",
       "      <td>2.793343e+00</td>\n",
       "      <td>2.626017e+00</td>\n",
       "      <td>4.032662e+00</td>\n",
       "      <td>2.548280e+00</td>\n",
       "      <td>3.801582e+00</td>\n",
       "      <td>3.443719e+00</td>\n",
       "      <td>3.539085e+00</td>\n",
       "      <td>3.059012e+00</td>\n",
       "    </tr>\n",
       "  </tbody>\n",
       "</table>\n",
       "</div>"
      ],
      "text/plain": [
       "          pregnency        plasma  bloodpressure          skin       Insulin  \\\n",
       "count  6.870000e+02  6.870000e+02   6.870000e+02  6.870000e+02  6.870000e+02   \n",
       "mean   2.133180e-17  7.142920e-17  -2.593752e-17 -2.424068e-17 -6.237934e-17   \n",
       "std    1.000729e+00  1.000729e+00   1.000729e+00  1.000729e+00  1.000729e+00   \n",
       "min   -1.172218e+00 -2.542866e+00  -3.926502e+00 -1.348878e+00 -8.062321e-01   \n",
       "25%   -8.671751e-01 -7.087464e-01  -6.778636e-01 -1.348878e+00 -8.062321e-01   \n",
       "50%   -2.570888e-01 -1.751843e-01  -2.813595e-02  1.450325e-01 -3.176928e-01   \n",
       "75%    6.580407e-01  6.251589e-01   6.215917e-01  7.296063e-01  5.927668e-01   \n",
       "max    2.793343e+00  2.626017e+00   4.032662e+00  2.548280e+00  3.801582e+00   \n",
       "\n",
       "                BMI      pedigree           age  \n",
       "count  6.870000e+02  6.870000e+02  6.870000e+02  \n",
       "mean  -7.728736e-16  1.503730e-16  1.662910e-16  \n",
       "std    1.000729e+00  1.000729e+00  1.000729e+00  \n",
       "min   -2.116304e+00 -1.322915e+00 -1.057021e+00  \n",
       "25%   -7.262980e-01 -7.358185e-01 -7.942953e-01  \n",
       "50%   -3.129514e-02 -2.963753e-01 -3.564195e-01  \n",
       "75%    6.183815e-01  5.297779e-01  6.069074e-01  \n",
       "max    3.443719e+00  3.539085e+00  3.059012e+00  "
      ]
     },
     "execution_count": 17,
     "metadata": {},
     "output_type": "execute_result"
    }
   ],
   "source": [
    "x.describe()"
   ]
  },
  {
   "cell_type": "markdown",
   "metadata": {},
   "source": [
    "-----------------------------------\n",
    "Our Output Class is Binary so we will use Logistic Regression and other regression algorithms\n",
    "\n",
    "----------------------------------------\n"
   ]
  },
  {
   "cell_type": "code",
   "execution_count": 18,
   "metadata": {},
   "outputs": [
    {
     "name": "stdout",
     "output_type": "stream",
     "text": [
      "------------Best Options for : LogisticRegression  Model ------------------\n",
      "\n",
      "Random_state with Model : (81, 'LogisticRegression')  Accurecy Score is : [88.40579710144928] \n",
      "\n",
      "Scoreing Methode : accuracy  Mean of Corss_val_Score : 78.46054750402577  & Std. Deviation : 0.04893694107505622\n",
      "\n",
      "\n",
      "------------Best Options for : GaussianNB  Model ------------------\n",
      "\n",
      "Random_state with Model : (81, 'GaussianNB')  Accurecy Score is : [84.78260869565217] \n",
      "\n",
      "Scoreing Methode : accuracy  Mean of Corss_val_Score : 75.70370370370372  & Std. Deviation : 0.046341729439787545\n",
      "\n",
      "\n",
      "------------Best Options for : SVC  Model ------------------\n",
      "\n",
      "Random_state with Model : (81, 'SVC')  Accurecy Score is : [83.33333333333334] \n",
      "\n",
      "Scoreing Methode : accuracy  Mean of Corss_val_Score : 77.29790660225443  & Std. Deviation : 0.05720711582115818\n",
      "\n",
      "\n",
      "------------Best Options for : DecisionTreeClassifier  Model ------------------\n",
      "\n",
      "Random_state with Model : (6, 'DecisionTreeClassifier')  Accurecy Score is : [78.26086956521739] \n",
      "\n",
      "Scoreing Methode : accuracy  Mean of Corss_val_Score : 69.88405797101449  & Std. Deviation : 0.06211886676067016\n",
      "\n",
      "\n",
      "------------Best Options for : KNeighborsClassifier  Model ------------------\n",
      "\n",
      "Random_state with Model : (94, 'KNeighborsClassifier')  Accurecy Score is : [82.6086956521739] \n",
      "\n",
      "Scoreing Methode : accuracy  Mean of Corss_val_Score : 74.38969404186795  & Std. Deviation : 0.05547270070720701\n",
      "\n",
      "\n"
     ]
    }
   ],
   "source": [
    "from sklearn.linear_model import LogisticRegression\n",
    "from sklearn.metrics import mean_squared_error,mean_absolute_error\n",
    "from sklearn.model_selection import train_test_split,GridSearchCV\n",
    "from sklearn.metrics import r2_score\n",
    "from sklearn.linear_model import ElasticNet\n",
    "from sklearn.linear_model import Lasso,Ridge\n",
    "from sklearn.svm import SVC\n",
    "from sklearn.tree import DecisionTreeClassifier\n",
    "from sklearn.neighbors import KNeighborsClassifier,KNeighborsRegressor\n",
    "from sklearn.metrics import accuracy_score,confusion_matrix,classification_report,roc_curve\n",
    "from sklearn.naive_bayes import GaussianNB\n",
    "from sklearn.model_selection import cross_val_score\n",
    "\n",
    "\n",
    "\n",
    "model_lst=[LogisticRegression(),GaussianNB(),SVC(),DecisionTreeClassifier(),KNeighborsClassifier()]\n",
    "    \n",
    "def trn_tst_split(model,inpt,outpt,rs=0):\n",
    "    x_train,x_test,y_train,y_test=train_test_split(x,y,test_size=.20,random_state=rs)\n",
    "    model.fit(x_train,y_train)\n",
    "    model.score(x_train,y_train)\n",
    "    pred_val=model.predict(x_test)\n",
    "    return accuracy_score(y_test,pred_val)\n",
    "\n",
    "for model in model_lst:\n",
    "    d={}\n",
    "    a=str(model)  \n",
    "    a=a.split('(')[0]\n",
    "    for i in range(0,100):\n",
    "        scr = trn_tst_split(model,x,y,i)\n",
    "        if scr > 0:\n",
    "            d[i,a]=[scr*100]\n",
    "        #        if scr > .82:\n",
    "        #            print (a,'---------',i,'-------',scr)\n",
    "    random_st = max(d , key=d.get)\n",
    "    #print ('\\nRandom_state with Model :',random_st,' Accurecy Score is :',(d[random_st]),'\\n')\n",
    "    scor=['precision','recall','f1','accuracy']\n",
    "    lst=[]\n",
    "    for i in scor:\n",
    "        lrscore=cross_val_score(model,x,y,scoring=i,cv=15)\n",
    "        lst.append((lrscore.mean()*100,lrscore.std()))\n",
    "        #print('Scoreing Methode :', i,' Mean of Corss_val_Score :',lrscore.mean()*100,' & Std. Deviation :',lrscore.std())\n",
    "    print ('------------Best Options for :',a,' Model ------------------')\n",
    "    print ('\\nRandom_state with Model :',random_st,' Accurecy Score is :',(d[random_st]),'\\n')\n",
    "    print('Scoreing Methode :', i,' Mean of Corss_val_Score :',max(lst)[0],' & Std. Deviation :',max(lst)[1])\n",
    "    lst=[]\n",
    "    print ('\\n')\n",
    "\n",
    "    "
   ]
  },
  {
   "cell_type": "code",
   "execution_count": 19,
   "metadata": {},
   "outputs": [
    {
     "name": "stdout",
     "output_type": "stream",
     "text": [
      "------------LogisticRegression-------------\n",
      "Accurecy Score :  0.8840579710144928\n",
      "Confusion Matrix : [[87  5]\n",
      " [11 35]]\n",
      "Classification Report :               precision    recall  f1-score   support\n",
      "\n",
      "           0       0.89      0.95      0.92        92\n",
      "           1       0.88      0.76      0.81        46\n",
      "\n",
      "    accuracy                           0.88       138\n",
      "   macro avg       0.88      0.85      0.86       138\n",
      "weighted avg       0.88      0.88      0.88       138\n",
      "\n",
      "---------------------------------------------------------\n",
      "Error :\n",
      "Mean Absolute Error :  0.11594202898550725\n",
      "Mean Squared Error :  0.11594202898550725\n",
      "Root Mean Squared Error :  0.34050261230349943\n",
      "---------------\n"
     ]
    }
   ],
   "source": [
    "x_train,x_test,y_train,y_test=train_test_split(x,y,test_size=.20,random_state=81)\n",
    "lr=LogisticRegression()\n",
    "lr.fit(x_train,y_train)\n",
    "lr.score(x_train,y_train)\n",
    "pred_val=lr.predict(x_test)\n",
    "print ('------------LogisticRegression-------------')\n",
    "print ('Accurecy Score : ',accuracy_score(y_test,pred_val))\n",
    "print ('Confusion Matrix :',confusion_matrix(y_test,pred_val))\n",
    "print ('Classification Report :',classification_report(y_test,pred_val))\n",
    "print('---------------------------------------------------------')\n",
    "print('Error :')\n",
    "print('Mean Absolute Error : ', mean_absolute_error(y_test,pred_val))\n",
    "print('Mean Squared Error : ',mean_squared_error(y_test,pred_val))\n",
    "print('Root Mean Squared Error : ',np.sqrt(mean_squared_error(y_test,pred_val)))\n",
    "print ('---------------')\n"
   ]
  },
  {
   "cell_type": "markdown",
   "metadata": {},
   "source": [
    "-----------------------------\n",
    "\n",
    "Using cross_val_score methode so that all the dataset will be consider for Training purpose as with total set of CV value and will check the average of mean values of all CV set. CV is nothing but kfold value\n",
    "\n",
    "------------------------------"
   ]
  },
  {
   "cell_type": "code",
   "execution_count": 20,
   "metadata": {},
   "outputs": [
    {
     "name": "stdout",
     "output_type": "stream",
     "text": [
      "------------LogisticRegression-------------\n",
      "Accurecy Score :  0.8840579710144928\n",
      "Confusion Matrix : [[87  5]\n",
      " [11 35]]\n",
      "Classification Report :               precision    recall  f1-score   support\n",
      "\n",
      "           0       0.89      0.95      0.92        92\n",
      "           1       0.88      0.76      0.81        46\n",
      "\n",
      "    accuracy                           0.88       138\n",
      "   macro avg       0.88      0.85      0.86       138\n",
      "weighted avg       0.88      0.88      0.88       138\n",
      "\n"
     ]
    }
   ],
   "source": [
    "print ('------------LogisticRegression-------------')\n",
    "print ('Accurecy Score : ',accuracy_score(y_test,pred_val))\n",
    "print ('Confusion Matrix :',confusion_matrix(y_test,pred_val))\n",
    "print ('Classification Report :',classification_report(y_test,pred_val))"
   ]
  },
  {
   "cell_type": "code",
   "execution_count": 21,
   "metadata": {},
   "outputs": [
    {
     "data": {
      "image/png": "[encoded data removed]",
      "text/plain": [
       "<Figure size 432x288 with 1 Axes>"
      ]
     },
     "metadata": {
      "needs_background": "light"
     },
     "output_type": "display_data"
    }
   ],
   "source": [
    "y_pred_prob=lr.predict_proba(x_test)[:,1]\n",
    "\n",
    "fpr,tpr,threshold=roc_curve(y_test,y_pred_prob)\n",
    "\n",
    "plt.plot([0,1],[0,1],'k--')  # X and Y axis value 0 to 1 \n",
    "plt.plot(fpr,tpr,label='Logistic Regression')\n",
    "plt.xlabel('False +ve Rate')\n",
    "plt.ylabel('True +ve Rate')\n",
    "plt.title('Logistic Regression')\n",
    "plt.show()\n"
   ]
  },
  {
   "cell_type": "code",
   "execution_count": 22,
   "metadata": {},
   "outputs": [
    {
     "ename": "NameError",
     "evalue": "name 'roc_auc_score' is not defined",
     "output_type": "error",
     "traceback": [
      "\u001b[1;31m---------------------------------------------------------------------------\u001b[0m",
      "\u001b[1;31mNameError\u001b[0m                                 Traceback (most recent call last)",
      "\u001b[1;32m<ipython-input-22-f86f0f0821df>\u001b[0m in \u001b[0;36m<module>\u001b[1;34m\u001b[0m\n\u001b[1;32m----> 1\u001b[1;33m \u001b[0mrocaucscore\u001b[0m\u001b[1;33m=\u001b[0m\u001b[0mroc_auc_score\u001b[0m\u001b[1;33m(\u001b[0m\u001b[0my_test\u001b[0m\u001b[1;33m,\u001b[0m\u001b[0my_pred_prob\u001b[0m\u001b[1;33m)\u001b[0m\u001b[1;33m\u001b[0m\u001b[1;33m\u001b[0m\u001b[0m\n\u001b[0m\u001b[0;32m      2\u001b[0m \u001b[0mprint\u001b[0m\u001b[1;33m(\u001b[0m\u001b[0mrocaucscore\u001b[0m\u001b[1;33m)\u001b[0m\u001b[1;33m\u001b[0m\u001b[1;33m\u001b[0m\u001b[0m\n\u001b[0;32m      3\u001b[0m \u001b[1;33m\u001b[0m\u001b[0m\n\u001b[0;32m      4\u001b[0m \u001b[1;33m\u001b[0m\u001b[0m\n\u001b[0;32m      5\u001b[0m \u001b[1;33m\u001b[0m\u001b[0m\n",
      "\u001b[1;31mNameError\u001b[0m: name 'roc_auc_score' is not defined"
     ]
    }
   ],
   "source": [
    "rocaucscore=roc_auc_score(y_test,y_pred_prob)\n",
    "print(rocaucscore)\n",
    "   \n",
    "   \n",
    "\n"
   ]
  },
  {
   "cell_type": "code",
   "execution_count": null,
   "metadata": {},
   "outputs": [],
   "source": [
    "x_train,x_test,y_train,y_test=train_test_split(x,y,test_size=.20,random_state=19,stratify=y)\n",
    "lr=LogisticRegression()\n",
    "lr.fit(x_train,y_train)\n",
    "lr.score(x_train,y_train)\n",
    "pred_val=lr.predict(x_test)\n",
    "print ('------------LogisticRegression-------------')\n",
    "print ('Accurecy Score : ',accuracy_score(y_test,pred_val))\n",
    "print ('Confusion Matrix :',confusion_matrix(y_test,pred_val))\n",
    "print ('Classification Report :',classification_report(y_test,pred_val))\n",
    "print('---------------------------------------------------------')\n",
    "print('Error :')\n",
    "print('Mean Absolute Error : ', mean_absolute_error(y_test,pred_val))\n",
    "print('Mean Squared Error : ',mean_squared_error(y_test,pred_val))\n",
    "print('Root Mean Squared Error : ',np.sqrt(mean_squared_error(y_test,pred_val)))\n",
    "print ('---------------')"
   ]
  },
  {
   "cell_type": "markdown",
   "metadata": {},
   "source": [
    "---------------------------\n",
    "ROC AUC score is high 91%\n",
    "\n",
    "Cross Validation Score is 78% and logistic model's score is 88%\n",
    "\n",
    "# ------------Questions-------------------\n",
    "#  If I am using 'stratify=y' while train_test_split , I am  getting less score ie 83%\n",
    "\n",
    "# If I am not using 'stratify=y' while train_test_split ,I am getting 88% score  so which methode we should use? With or without \"stratify\" ?\n",
    "\n",
    "# I am not Using stratify then \n",
    "# I am Not sure about Overfitting in our model. Need to ask as there is 10% gap in between Cross validation value and Accurecy Score of logistic model.\n",
    "\n",
    "----------------------------------"
   ]
  },
  {
   "cell_type": "markdown",
   "metadata": {},
   "source": [
    "----------------------\n",
    "Maximum Accurecy score is 88% using Logistic Regression,So we are saving that model as .obj file for further use\n",
    "\n",
    "-----------------------"
   ]
  },
  {
   "cell_type": "code",
   "execution_count": null,
   "metadata": {},
   "outputs": [],
   "source": [
    "import joblib\n",
    "joblib.dump(lr,'pima-indians-diabetes.obj')\n",
    "#or\n",
    "joblib.dump(lr,'pima-indians-diabetes.pkl')"
   ]
  }
 ],
 "metadata": {
  "kernelspec": {
   "display_name": "Python 3",
   "language": "python",
   "name": "python3"
  },
  "language_info": {
   "codemirror_mode": {
    "name": "ipython",
    "version": 3
   },
   "file_extension": ".py",
   "mimetype": "text/x-python",
   "name": "python",
   "nbconvert_exporter": "python",
   "pygments_lexer": "ipython3",
   "version": "3.7.6"
  }
 },
 "nbformat": 4,
 "nbformat_minor": 4
}
